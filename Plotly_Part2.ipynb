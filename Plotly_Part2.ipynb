{
 "cells": [
  {
   "cell_type": "markdown",
   "metadata": {},
   "source": [
    "Practicing and experimenting with Python and Data Visualization."
   ]
  },
  {
   "cell_type": "code",
   "execution_count": 1,
   "metadata": {
    "collapsed": true
   },
   "outputs": [],
   "source": [
    "# (*) To communicate with Plotly's server, sign in with credentials file\n",
    "import plotly.plotly as py  \n",
    "\n",
    "# (*) Useful Python/Plotly tools\n",
    "import plotly.tools as tls   \n",
    "\n",
    "# (*) Graph objects to piece together plots\n",
    "from plotly.graph_objs import *\n",
    "\n",
    "import numpy as np  # (*) numpy for math functions and arrays"
   ]
  },
  {
   "cell_type": "markdown",
   "metadata": {},
   "source": [
    "Simple csv reader function adapted to our CSV data files:"
   ]
  },
  {
   "cell_type": "code",
   "execution_count": 2,
   "metadata": {
    "collapsed": true
   },
   "outputs": [],
   "source": [
    "# (*) csv file read/write\n",
    "import csv         \n",
    "\n",
    "# Define a csv reader function\n",
    "def get_csv_data(filepath, row_id):\n",
    "    ''' \n",
    "    Read row of csv file, return a numpy array where\n",
    "    each entry corresp. to a particular month from January to December\n",
    "    pos. arg (1) filepath: relative path to csv file \n",
    "    pos. arg (2) row_id: id of row requested, found in first column (a string)\n",
    "    '''\n",
    "    with open(filepath, 'r') as data_file:\n",
    "        reader = csv.reader(data_file)        # define reader object\n",
    "        for row in reader:                    # loop through rows in csv file\n",
    "            if len(row) and row_id in row[0]: # test for empty lines and row id\n",
    "                # Trim 1st and last 2 entries (not corresp. to months) \n",
    "                # and return a numpy array\n",
    "                return np.array([float(x) for x in row[1:-2]])\n",
    "            \n",
    "# (-) The 'with' statement automatically closes  \n",
    "#    'filepath' at the end of its block of code"
   ]
  },
  {
   "cell_type": "markdown",
   "metadata": {},
   "source": [
    "### Bar Chart with Error Bars"
   ]
  },
  {
   "cell_type": "code",
   "execution_count": 3,
   "metadata": {
    "collapsed": true
   },
   "outputs": [],
   "source": [
    "# Make a list of month names\n",
    "months = ['Jan', 'Feb', 'Mar', 'Apr', 'May', 'Jun',\n",
    "          'Jul', 'Aug', 'Sep', 'Oct', 'Nov', 'Dec']\n",
    "\n",
    "# Get a 1d-array of daily average temperatures, \n",
    "#  1 entry per month using get_csv_data()\n",
    "T_avg = get_csv_data('montreal.csv', 'Daily Average')\n",
    "\n",
    "# Similarly, get a 1d-array of daily temperature standard deviations\n",
    "T_std = get_csv_data('montreal.csv', 'Standard Deviation')"
   ]
  },
  {
   "cell_type": "code",
   "execution_count": 9,
   "metadata": {
    "collapsed": false
   },
   "outputs": [
    {
     "data": {
      "text/html": [
       "<iframe id=\"igraph\" scrolling=\"no\" style=\"border:none;\" seamless=\"seamless\" src=\"https://plot.ly/~mjoh/8.embed\" height=\"525px\" width=\"100%\"></iframe>"
      ],
      "text/plain": [
       "<plotly.tools.PlotlyDisplay object>"
      ]
     },
     "execution_count": 9,
     "metadata": {},
     "output_type": "execute_result"
    }
   ],
   "source": [
    "# Make a Bar trace object\n",
    "trace1 = Bar(\n",
    "    x=months,  # a list of string as x-coords\n",
    "    y=T_avg,   # 1d array of numbers as y-coords\n",
    "    marker=Marker(color='#E3BA22'),  # set bar color (hex color model)\n",
    "    error_y=ErrorY(\n",
    "        type='data',     # or 'percent', 'sqrt', 'constant'\n",
    "        array=T_std,     # values of error bars\n",
    "        color='#E6842A'  # set error bar color\n",
    "    )\n",
    ")\n",
    "\n",
    "# Make Data object\n",
    "data = Data([trace1])\n",
    "\n",
    "title = \"<b>Fig 2.1: Montreal 1981-2010</b><br>\\\n",
    "Daily Average Temperature and Standard Deviation\"  # plot's title\n",
    "\n",
    "# Make Layout object\n",
    "layout = Layout(\n",
    "    title=title,       # set plot title\n",
    "    showlegend=False,  # remove legend\n",
    "    yaxis= YAxis(\n",
    "        title='Temperature [in deg. C]', # y-axis title\n",
    "        range=[-15.5,25.5],              # set range\n",
    "        zeroline=False,                  # remove thick line at y=0\n",
    "        gridcolor='white'                # set grid color to white\n",
    "    ),\n",
    "    paper_bgcolor='rgb(233,233,233)',  # set paper (outside plot) \n",
    "    plot_bgcolor='rgb(233,233,233)',   #   and plot color to grey\n",
    ")\n",
    "\n",
    "\n",
    "# Make Figure object\n",
    "fig = Figure(data=data, layout=layout)\n",
    "\n",
    "# (@) Send to Plotly and show in notebook\n",
    "py.iplot(fig, filename='s2_avg-temp')"
   ]
  },
  {
   "cell_type": "markdown",
   "metadata": {},
   "source": [
    "### Stacked Bars"
   ]
  },
  {
   "cell_type": "code",
   "execution_count": 10,
   "metadata": {
    "collapsed": true
   },
   "outputs": [],
   "source": [
    "# (0) Get average daily minima and average daily maxima from 'montreal.csv' \n",
    "T_min = get_csv_data('montreal.csv', 'Daily Minimum')\n",
    "T_max = get_csv_data('montreal.csv', 'Daily Maximum')\n",
    "\n",
    "# Truncate T_* to summer only, convert to list\n",
    "T_min_s = T_min[5:8]\n",
    "T_avg_s = T_avg[5:8]   # (!) T_avg was defined in subsection 2.1\n",
    "T_max_s = T_max[5:8]"
   ]
  },
  {
   "cell_type": "code",
   "execution_count": 21,
   "metadata": {
    "collapsed": true
   },
   "outputs": [],
   "source": [
    "summer = ['June', 'July', 'August']  # list of summer month names\n",
    "\n",
    "# Define a trace-generating function (returns a Bar object)\n",
    "def make_trace(y, name, color):\n",
    "    return Bar(\n",
    "        x=summer,       # (!) x-coords are the summer month names (global variable)\n",
    "        y=y,            # take in the y-coordinates\n",
    "        name=name,      # label for legend/hover\n",
    "        marker=Marker(\n",
    "            color=color,        # set bar colors\n",
    "            line=Line(\n",
    "                color='white',  # set bar border color\n",
    "                width= 2      # set bar border width\n",
    "            )\n",
    "        )\n",
    "    )"
   ]
  },
  {
   "cell_type": "code",
   "execution_count": 22,
   "metadata": {
    "collapsed": true
   },
   "outputs": [],
   "source": [
    "# (1) Make Data object using make_trace()\n",
    "data = Data([\n",
    "    make_trace(T_max_s, 'Daily Maximum', '#BD8F22'),\n",
    "    make_trace(T_avg_s, 'Daily Average', '#E3BA22'),\n",
    "    make_trace(T_min_s, 'Daily Minimum', '#F2DA57')\n",
    "])"
   ]
  },
  {
   "cell_type": "code",
   "execution_count": 27,
   "metadata": {
    "collapsed": true
   },
   "outputs": [],
   "source": [
    "# Define an annotation-generating function\n",
    "def make_annotation(x, y):         \n",
    "    return Annotation(\n",
    "        text=str(y),     # text is the y-coord\n",
    "        showarrow=False, # annotation w/o arrows, default is True\n",
    "        x=x,               # set x position\n",
    "        xref='x',          # position text horizontally with x-coords\n",
    "        xanchor='center',  # x position corresp. to center of text\n",
    "        yref='y',            # set y position \n",
    "        yanchor='top',       # position text vertically with y-coords\n",
    "        y=y,                 # y position corresp. to top of text\n",
    "        font=Font(\n",
    "            color='#262626',  # set font color\n",
    "            size=13           #   and size   \n",
    "        )\n",
    "    )"
   ]
  },
  {
   "cell_type": "code",
   "execution_count": 28,
   "metadata": {
    "collapsed": true
   },
   "outputs": [],
   "source": [
    "# Make Annotations object (list-like) with make_annotation()\n",
    "annotations = Annotations(\n",
    "    [make_annotation(x, y) for x, y in zip(range(3), T_max_s)] +\n",
    "    [make_annotation(x, y) for x, y in zip(range(3), T_avg_s)] + \n",
    "    [make_annotation(x, y) for x, y in zip(range(3), T_min_s)]\n",
    ")"
   ]
  },
  {
   "cell_type": "code",
   "execution_count": 29,
   "metadata": {
    "collapsed": true
   },
   "outputs": [],
   "source": [
    "title = 'Fig 2.2: Montreal 1981-2010 \\\n",
    "temperature climatology [in deg. C]<br>'  # plot's title  \n",
    "\n",
    "# (2) Make Layout object\n",
    "layout = Layout(\n",
    "    barmode='overlay',  # (!) bars are overlaid on this plot\n",
    "    title=title,        # set plot title\n",
    "    yaxis=YAxis(\n",
    "        zeroline=False,          # no thick y=0 line\n",
    "        showgrid=False,          # no horizontal grid lines\n",
    "        showticklabels=False     # no y-axis tick labels\n",
    "    ),  \n",
    "    legend=Legend(\n",
    "        x=0,     # set legend x position in norm. plotting area coord.  \n",
    "        y=1,     # set legend y postion in \" \" \" \"\n",
    "        yanchor='middle'   # y position corresp. to middle of text\n",
    "    ),   \n",
    "    annotations=annotations # link the Annotations object\n",
    ")"
   ]
  },
  {
   "cell_type": "code",
   "execution_count": 30,
   "metadata": {
    "collapsed": false
   },
   "outputs": [
    {
     "data": {
      "text/html": [
       "<iframe id=\"igraph\" scrolling=\"no\" style=\"border:none;\" seamless=\"seamless\" src=\"https://plot.ly/~mjoh/10.embed\" height=\"525px\" width=\"100%\"></iframe>"
      ],
      "text/plain": [
       "<plotly.tools.PlotlyDisplay object>"
      ]
     },
     "execution_count": 30,
     "metadata": {},
     "output_type": "execute_result"
    }
   ],
   "source": [
    "# (3) Make Figure object\n",
    "fig = Figure(data=data, layout=layout)\n",
    "\n",
    "# (@) Send to Plotly and show in notebook\n",
    "py.iplot(fig, filename='s2_avg-min-max-temp')"
   ]
  },
  {
   "cell_type": "markdown",
   "metadata": {},
   "source": [
    "### Horizontal Stacked Bar Chart"
   ]
  },
  {
   "cell_type": "code",
   "execution_count": 36,
   "metadata": {
    "collapsed": true
   },
   "outputs": [],
   "source": [
    "mtl_P = get_csv_data('montreal.csv', 'Precipitation (mm)')\n",
    "van_P = get_csv_data('vancouver.csv', 'Precipitation (mm)')\n"
   ]
  },
  {
   "cell_type": "code",
   "execution_count": 32,
   "metadata": {
    "collapsed": true
   },
   "outputs": [],
   "source": [
    "months = ['Jan', 'Feb', 'Mar', 'Apr', 'May', 'Jun',\n",
    "          'Jul', 'Aug', 'Sep', 'Oct', 'Nov', 'Dec']\n",
    "\n",
    "# Define colors for each set of 3 months starting in January\n",
    "colors = ['#42A5B3']*3 + ['#D15A86']*3 + ['#5C8100']*3 + ['#E58429']*3\n",
    "\n",
    "# City names\n",
    "cities = ['Montreal', 'Vancouver']"
   ]
  },
  {
   "cell_type": "code",
   "execution_count": 46,
   "metadata": {
    "collapsed": true
   },
   "outputs": [],
   "source": [
    "# Define a trace-generating function (returns a Bar object)\n",
    "def make_trace(x, name, color):\n",
    "    return Bar(\n",
    "        y=cities,      # cities name on the y-axis\n",
    "        x=x,           # monthly total on x-axis\n",
    "        name=name,  # label for hover \n",
    "        orientation='h',     # default is 'v'\n",
    "        marker=Marker(\n",
    "            color=color,\n",
    "            line=Line(\n",
    "                color='white',\n",
    "                width=1\n",
    "            )\n",
    "        )\n",
    "    )"
   ]
  },
  {
   "cell_type": "code",
   "execution_count": 47,
   "metadata": {
    "collapsed": false
   },
   "outputs": [],
   "source": [
    "# (1) Build a data object containing 12 Bar objects (1 for each month)\n",
    "data = Data([\n",
    "    make_trace([mtl_P[i], van_P[i]], months[i], colors[i]) \n",
    "    for i in range(12)\n",
    "])"
   ]
  },
  {
   "cell_type": "code",
   "execution_count": 52,
   "metadata": {
    "collapsed": false
   },
   "outputs": [],
   "source": [
    "title = \"Fig 2.3: Montreal and Vancouver 1981-2010 \\\n",
    "Monthly Average Precipitation<br>\\\n",
    "<i>hover with cursor to see each month's total</i>\"  # plot's title \n",
    "\n",
    "# (2) Make Layout object\n",
    "layout = Layout(\n",
    "    barmode='stack',  # (!) bars are stacked on this plot\n",
    "    bargap=0.6,       # (!) spacing (norm. w.r.t axis) between bars\n",
    "    title=title,        # set plot title\n",
    "    showlegend=False,   # remove legend\n",
    "    hovermode='closest', \n",
    "    xaxis= XAxis(\n",
    "        title='Precipitation [in mm of rain]', # x-axis title \n",
    "        gridcolor='white',  # white grid lines\n",
    "        gridwidth=2,        # bigger grid lines\n",
    "        zeroline=False,     # remove thick zero line\n",
    "        ticks='outside',    # draw ticks outside axes\n",
    "        autotick=False,     # (!) overwrite default tick options\n",
    "        dtick=100,          # (!) set distance between ticks  \n",
    "        ticklen=8,          # (!) set tick length\n",
    "        tickwidth=1.5       #     and width\n",
    "    ),     \n",
    "    plot_bgcolor='rgb(233,233,233)',  # set plot color to grey\n",
    ")     "
   ]
  },
  {
   "cell_type": "code",
   "execution_count": 53,
   "metadata": {
    "collapsed": false
   },
   "outputs": [
    {
     "data": {
      "text/html": [
       "<iframe id=\"igraph\" scrolling=\"no\" style=\"border:none;\" seamless=\"seamless\" src=\"https://plot.ly/~mjoh/12.embed\" height=\"525px\" width=\"100%\"></iframe>"
      ],
      "text/plain": [
       "<plotly.tools.PlotlyDisplay object>"
      ]
     },
     "execution_count": 53,
     "metadata": {},
     "output_type": "execute_result"
    }
   ],
   "source": [
    "# (3) Make Figure oubject\n",
    "fig = Figure(data=data, layout=layout)\n",
    "\n",
    "# Send to Plotly and show in notebook\n",
    "py.iplot(fig, filename='s2_mtl-van-precip')"
   ]
  },
  {
   "cell_type": "markdown",
   "metadata": {},
   "source": [
    "### A Publication-Worthy Figure with Subplots"
   ]
  },
  {
   "cell_type": "code",
   "execution_count": 54,
   "metadata": {
    "collapsed": false
   },
   "outputs": [
    {
     "name": "stdout",
     "output_type": "stream",
     "text": [
      "This is the format of your plot grid:\n",
      "[ (1,1) x1,y1 ]\n",
      "[ (2,1) x1,y2 ]\n",
      "\n"
     ]
    }
   ],
   "source": [
    "# Subplots will share an a-axis (month)\n",
    "# Generate Figure object with 2 axes on 2 rows, print axis grid to stdout\n",
    "fig = tls.make_subplots(\n",
    "    rows=2,\n",
    "    cols=1,\n",
    "    shared_xaxes=True\n",
    ")"
   ]
  },
  {
   "cell_type": "code",
   "execution_count": 55,
   "metadata": {
    "collapsed": true
   },
   "outputs": [],
   "source": [
    "# Get Data\n",
    "mtl_t_avg = get_csv_data('montreal.csv', 'Daily Average')\n",
    "van_t_avg = get_csv_data('vancouver.csv', 'Daily Average')\n",
    "\n",
    "col_mtl = '#0F8C79'\n",
    "col_van = '#BD2D28'\n",
    "\n",
    "# The degree Celsius symbol in unicode\n",
    "degC = u\"\\u2103\""
   ]
  },
  {
   "cell_type": "code",
   "execution_count": 57,
   "metadata": {
    "collapsed": false
   },
   "outputs": [],
   "source": [
    "# Define a trace-generating function (returns a Bar object)\n",
    "def make_trace(y, color, name, sbplt):\n",
    "    return Bar(\n",
    "        x=months,\n",
    "        y=y,\n",
    "        name=name,\n",
    "        marker=Marker(color=color),\n",
    "        xaxis='x1',    # both subplots on same x-axis\n",
    "        yaxis='y{}'.format(sbplt)    # plot on y-axis of 'sbplt'\n",
    "    )"
   ]
  },
  {
   "cell_type": "code",
   "execution_count": 59,
   "metadata": {
    "collapsed": false
   },
   "outputs": [],
   "source": [
    "# Build the data object\n",
    "# Assign temp traces to top axis\n",
    "traces_T = [make_trace(mtl_t_avg, col_mtl, 'Montreal', 2),\n",
    "           make_trace(van_t_avg, col_van, 'Vancouver', 2)]\n",
    "\n",
    "# Assign precips to bottom axis\n",
    "traces_P = [make_trace(mtl_P, col_mtl, 'Montreal', 1),\n",
    "           make_trace(van_P, col_van, 'Vancouver', 1)]\n",
    "\n",
    "# Concat the 4 traces and set the 'data' key in the Figure object\n",
    "fig['data'] = Data(traces_T + traces_P)"
   ]
  },
  {
   "cell_type": "code",
   "execution_count": 60,
   "metadata": {
    "collapsed": true
   },
   "outputs": [],
   "source": [
    "# Layout Options\n",
    "# Add the bar chart options to the 'layout' key in the Figure object\n",
    "fig['layout'].update(\n",
    "    barmode='group',   # bars are in groups on this plot\n",
    "    bargroupgap=0,     # norm. spacing between group members\n",
    "    bargap=0.25        # norm. spacing between groups\n",
    ")\n",
    "\n",
    "# Add frame options to the 'layout' key\n",
    "fig['layout'].update(\n",
    "    showlegend=False,\n",
    "    autosize=False,\n",
    "    height=500,\n",
    "    width=650,\n",
    "    margin=Margin(\n",
    "        t=100,\n",
    "        b=100,\n",
    "        r=25,\n",
    "        l=70\n",
    "    ),\n",
    "    plot_bgcolor='#EFECEA',\n",
    "    paper_bgcolor='#EFECEA'\n",
    ")\n",
    "\n",
    "# Global font to 'layout'\n",
    "fig['layout'].update(\n",
    "    font=Font(\n",
    "        family=\"Droid Serif, serif\",\n",
    "        color='#635F5D'\n",
    "    )\n",
    ")"
   ]
  },
  {
   "cell_type": "code",
   "execution_count": 61,
   "metadata": {
    "collapsed": true
   },
   "outputs": [],
   "source": [
    "# Axis Formatting\n",
    "def update_axis(title, tickangle):\n",
    "    return dict(\n",
    "        title=title,\n",
    "        tickfont=dict(size=13),\n",
    "        tickangle=tickangle,\n",
    "        gridcolor='#FFFFFF',\n",
    "        zeroline=False\n",
    "    )\n",
    "\n",
    "fig['layout']['xaxis1'].update(\n",
    "    update_axis('', 45)\n",
    ")\n",
    "\n",
    "fig['layout']['yaxis2'].update(\n",
    "    update_axis('<b>Temperature</b> [' + degC + ']', 0)\n",
    ")\n",
    "\n",
    "fig['layout']['yaxis1'].update(\n",
    "    update_axis('<b>Precipitation</b> [mm]', 0)\n",
    ")"
   ]
  },
  {
   "cell_type": "code",
   "execution_count": 63,
   "metadata": {
    "collapsed": false
   },
   "outputs": [],
   "source": [
    "# Annotations\n",
    "def make_anno1(text, fontsize, x, y):\n",
    "    return Annotation(\n",
    "        text=text,\n",
    "        xref='paper',\n",
    "        yref='paper',\n",
    "        x=x,\n",
    "        y=y,\n",
    "        font=Font(size=fontsize),\n",
    "        showarrow=False,\n",
    "        bgcolor='#F5F3F2',\n",
    "        bordercolor='#FFFFFF',\n",
    "        borderwidth=1,\n",
    "        borderpad=fontsize\n",
    "    )\n",
    "\n",
    "annotations = Annotations([\n",
    "    make_anno1('Fig. 2.4a: <b>Climate of 1981-2010</b>', 20, 0, 1.3),\n",
    "    make_anno1('<b>Source:</b> Environment Canada', 10, 0, -0.3)\n",
    "])\n",
    "\n",
    "def make_anno2(text, fontcolor, x):\n",
    "    return Annotation(\n",
    "        text=text,\n",
    "        xref='paper',\n",
    "        yref='paper',\n",
    "        x=x,\n",
    "        y=1.2,\n",
    "        xanchor='right',\n",
    "        font=Font(\n",
    "            size=12,\n",
    "            color=fontcolor\n",
    "        ),\n",
    "        showarrow=False,\n",
    "        bgcolor='#F5F3F2',\n",
    "        borderpad=10\n",
    "    )\n",
    "\n",
    "annotations += [\n",
    "    make_anno2('<b>Montreal</b>', col_mtl, 0.8),\n",
    "    make_anno2('<b>Vancouver</b>', col_van, 1)\n",
    "]\n",
    "\n",
    "fig['layout'].update(\n",
    "    annotations=annotations\n",
    ")"
   ]
  },
  {
   "cell_type": "code",
   "execution_count": 64,
   "metadata": {
    "collapsed": true
   },
   "outputs": [],
   "source": [
    "# Add invisible 'title' to be placed in the plot URL\n",
    "fig['layout'].update(\n",
    "    title=\"montreal=vancouver-1981-2010-climates\",\n",
    "    titlefont=Font(color='rgba(0,0,0,0)')\n",
    ")"
   ]
  },
  {
   "cell_type": "code",
   "execution_count": 65,
   "metadata": {
    "collapsed": false
   },
   "outputs": [
    {
     "data": {
      "text/html": [
       "<iframe id=\"igraph\" scrolling=\"no\" style=\"border:none;\" seamless=\"seamless\" src=\"https://plot.ly/~mjoh/14.embed\" height=\"500px\" width=\"650px\"></iframe>"
      ],
      "text/plain": [
       "<plotly.tools.PlotlyDisplay object>"
      ]
     },
     "execution_count": 65,
     "metadata": {},
     "output_type": "execute_result"
    }
   ],
   "source": [
    "# (@) Send to Plotly and show in notebook\n",
    "py.iplot(fig, filename='s2_mtl-van')"
   ]
  },
  {
   "cell_type": "markdown",
   "metadata": {},
   "source": [
    "### Some Add-On Features"
   ]
  },
  {
   "cell_type": "code",
   "execution_count": 66,
   "metadata": {
    "collapsed": true
   },
   "outputs": [],
   "source": [
    "# Define a 3rd annotation-generating function (for arrow annotations)\n",
    "def make_anno3(text, yref, x, y , ax, ay):\n",
    "    return Annotation(\n",
    "        text=text,  # annotation text\n",
    "        xref='x1',    # (!) use axis coordinates\n",
    "        yref=yref,    #     for both x and y coords\n",
    "        x=x,  # (!) x position of the arrow\n",
    "        y=y,  # (!) y position of the arrow\n",
    "        showarrow=True,       # show arrow (optional here) \n",
    "        ax=ax,        # (!) x text/arrow offset (<0: left, >0: right, in pixels)\n",
    "        ay=ay,        # (!) y text/arrow offset (<0: below, >0: above, in pixels)\n",
    "        arrowhead=7,            # arrow head style\n",
    "        arrowsize=1.5,          # arrow head size (in pixels)\n",
    "        arrowcolor='#C0C0BB',   # grey arrow color\n",
    "        bgcolor='#FFFFFF',      # white background\n",
    "        bordercolor='#C0C0BB',  # grey border color\n",
    "        borderwidth=1,          # set border width (in pixels)\n",
    "        borderpad=4             # set border/text space (in pixels)\n",
    "    )"
   ]
  },
  {
   "cell_type": "code",
   "execution_count": 69,
   "metadata": {
    "collapsed": false
   },
   "outputs": [],
   "source": [
    "# (4.1a) Find index and value of coldest month\n",
    "tmp = np.vstack((mtl_t_avg, van_t_avg))\n",
    "i_cold, cold = np.unravel_index(tmp.argmin(), tmp.shape)[1], tmp.min()\n",
    "\n",
    "# (4.1b) Find index and value of wettest month\n",
    "tmp = np.vstack((mtl_P, van_P))\n",
    "i_wet, wet = np.unravel_index(tmp.argmax(), tmp.shape)[1], tmp.max()\n",
    "\n",
    "# (-) np.vstack((x,y)) stacks x and y as column of a new array\n",
    "#     np.unravel_index(out, tmp.shape) converts a 1d index from out to 2d \n",
    "#     np.unravel_index(tmp.argmin(), tmp.shape)[1] outputs the months index\n",
    "\n",
    "# (4.1c) Append annotation list with 2 on-plot annotations\n",
    "fig['layout']['annotations'] += Annotations([\n",
    "    make_anno3('<em>Coldest month</em><br>{}'.format(cold) + degC,\n",
    "               'y2', i_cold, cold, 100, 15),\n",
    "    make_anno3('<em>Wettest month</em><br>{}'.format(wet) + ' mm',\n",
    "               'y1', i_wet, wet, -100, 15)\n",
    "])"
   ]
  },
  {
   "cell_type": "code",
   "execution_count": 70,
   "metadata": {
    "collapsed": true
   },
   "outputs": [],
   "source": [
    "# (4.2) Update title annotation (the 1st in Annotations)\n",
    "fig['layout']['annotations'][0].update(text='Fig. 2.4b: <b>Climate of 1981-2010</b>')"
   ]
  },
  {
   "cell_type": "code",
   "execution_count": 71,
   "metadata": {
    "collapsed": false
   },
   "outputs": [
    {
     "data": {
      "text/html": [
       "<iframe id=\"igraph\" scrolling=\"no\" style=\"border:none;\" seamless=\"seamless\" src=\"https://plot.ly/~mjoh/16.embed\" height=\"500px\" width=\"650px\"></iframe>"
      ],
      "text/plain": [
       "<plotly.tools.PlotlyDisplay object>"
      ]
     },
     "execution_count": 71,
     "metadata": {},
     "output_type": "execute_result"
    }
   ],
   "source": [
    "# (@) Send to Plotly and show in notebook\n",
    "py.iplot(fig, filename='s2_mtl-van-arrows')"
   ]
  },
  {
   "cell_type": "code",
   "execution_count": null,
   "metadata": {
    "collapsed": true
   },
   "outputs": [],
   "source": []
  }
 ],
 "metadata": {
  "kernelspec": {
   "display_name": "Python 3",
   "language": "python",
   "name": "python3"
  },
  "language_info": {
   "codemirror_mode": {
    "name": "ipython",
    "version": 3
   },
   "file_extension": ".py",
   "mimetype": "text/x-python",
   "name": "python",
   "nbconvert_exporter": "python",
   "pygments_lexer": "ipython3",
   "version": "3.6.0"
  }
 },
 "nbformat": 4,
 "nbformat_minor": 2
}
