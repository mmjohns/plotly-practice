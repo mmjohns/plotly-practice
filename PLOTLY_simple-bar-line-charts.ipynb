{
 "cells": [
  {
   "cell_type": "markdown",
   "metadata": {},
   "source": [
    "Practicing and experimenting with Python and Data Visualization.\n",
    "\n",
    "<span style=\"color:orange\">*Add Sources, GitHub links*</span>",
    "\n",
    "http://nbviewer.jupyter.org/github/plotly/python-user-guide/tree/master/\n"
   ]
  },
  {
   "cell_type": "markdown",
   "metadata": {},
   "source": [
    "Set up"
   ]
  },
  {
   "cell_type": "code",
   "execution_count": 8,
   "metadata": {
    "collapsed": true
   },
   "outputs": [],
   "source": [
    "import plotly\n",
    "import plotly.plotly as py\n",
    "import plotly.tools as tls \n",
    "from plotly.graph_objs import Data, Layout, Figure"
   ]
  },
  {
   "cell_type": "markdown",
   "metadata": {},
   "source": [
    "Create a basic line chart"
   ]
  },
  {
   "cell_type": "code",
   "execution_count": 39,
   "metadata": {
    "collapsed": true
   },
   "outputs": [],
   "source": [
    "# Two lists\n",
    "year = [1952,1957,1962,1967,1972,1977,1982,1987,1992,1997,2002,2007]\n",
    "life = [68.44, 69.49, 70.21, 70.76, 71.34, 73.38, 74.65, 75.02, 76.09, 76.81, 77.31, 78.242]\n",
    "\n",
    "# Make a dictionary linking x and y coordinate lists to 'x' and 'y' keys\n",
    "trace1 = dict(\n",
    "    x=year, \n",
    "    y=life,\n",
    "    line = dict(\n",
    "        color = ('rgb(205, 12, 24)'),\n",
    "        width = 4\n",
    "    ),\n",
    "    marker=dict(size = 15)\n",
    ")\n",
    "\n",
    "# Make list of trace, to be sent to Plotly\n",
    "data = [trace1]"
   ]
  },
  {
   "cell_type": "markdown",
   "metadata": {},
   "source": [
    "Add more information"
   ]
  },
  {
   "cell_type": "code",
   "execution_count": 40,
   "metadata": {
    "collapsed": true
   },
   "outputs": [],
   "source": [
    "# Import axis objects\n",
    "from plotly.graph_objs import XAxis, YAxis"
   ]
  },
  {
   "cell_type": "code",
   "execution_count": 41,
   "metadata": {
    "collapsed": false
   },
   "outputs": [],
   "source": [
    "# Make Layout object\n",
    "layout = Layout(\n",
    "    title=\"US Life Expectancy Over Time<br>\\\n",
    "    (1952-2007)\",\n",
    "    showlegend=False,\n",
    "    yaxis= YAxis(\n",
    "        title='Life Expectancy [years]',\n",
    "        showgrid=False\n",
    "    ),\n",
    "    xaxis= XAxis(\n",
    "        title='Year',\n",
    "        showgrid=False\n",
    "    )\n",
    ")\n",
    "\n",
    "# Make Figure object\n",
    "fig = Figure(data=data, layout=layout)"
   ]
  },
  {
   "cell_type": "code",
   "execution_count": 44,
   "metadata": {
    "collapsed": false
   },
   "outputs": [
    {
     "data": {
      "text/html": [
       "<iframe id=\"igraph\" scrolling=\"no\" style=\"border:none;\" seamless=\"seamless\" src=\"https://plot.ly/~mjoh/18.embed\" height=\"525px\" width=\"100%\"></iframe>"
      ],
      "text/plain": [
       "<plotly.tools.PlotlyDisplay object>"
      ]
     },
     "execution_count": 44,
     "metadata": {},
     "output_type": "execute_result"
    }
   ],
   "source": [
    "# Call the plot() function of the plotly.plotly submodule,\n",
    "# save and name figure\n",
    "# Note: to keep plots private (free accounts have a limit), add argument world_readable=False\n",
    "py.plot(fig, filename='simple_US_life_expt_over_time', auto_open=False)\n",
    "\n",
    "# Embed result in notebook\n",
    "py.iplot(fig, filename='simple_US_life_expt_over_time')"
   ]
  },
  {
   "cell_type": "markdown",
   "metadata": {},
   "source": [
    "Add another country"
   ]
  },
  {
   "cell_type": "markdown",
   "metadata": {},
   "source": [
    "CSV reader code"
   ]
  },
  {
   "cell_type": "code",
   "execution_count": 95,
   "metadata": {
    "collapsed": false
   },
   "outputs": [],
   "source": [
    "# (*) csv file read/write\n",
    "import csv         \n",
    "\n",
    "# Define a csv reader function\n",
    "def get_csv_data(filepath, row_id):\n",
    "    ''' \n",
    "    Read row of csv file, return a numpy array where\n",
    "    each entry corresp. to a particular month from January to December\n",
    "    pos. arg (1) filepath: relative path to csv file \n",
    "    pos. arg (2) row_id: id of row requested, found in first column (a string)\n",
    "    '''\n",
    "    with open(filepath, 'r') as data_file:\n",
    "        reader = csv.reader(data_file)        # define reader object\n",
    "        for row in reader:                    # loop through rows in csv file\n",
    "            if len(row) and row_id in row[0]: # test for empty lines and row id\n",
    "                # Trim 1st entry\n",
    "                # and return a numpy array\n",
    "                return np.array([float(x) for x in row[1:]])\n",
    "            \n",
    "# (-) The 'with' statement automatically closes  \n",
    "#    'filepath' at the end of its block of code"
   ]
  },
  {
   "cell_type": "code",
   "execution_count": 115,
   "metadata": {
    "collapsed": false
   },
   "outputs": [],
   "source": [
    "life_expt_file = '/Users/meganjohns/AnacondaProjects/plotly-practice/data/world_life_expt_by_year.csv'\n",
    "\n",
    "# Store rows as lists\n",
    "year = get_csv_data(life_expt_file, 'Year')\n",
    "US_life_expt = get_csv_data(life_expt_file, 'United States')\n",
    "Ch_life_expt = get_csv_data(life_expt_file, 'China')\n",
    "\n",
    "color_US = '#043657'\n",
    "color_Ch = '#df2222'"
   ]
  },
  {
   "cell_type": "code",
   "execution_count": 122,
   "metadata": {
    "collapsed": true
   },
   "outputs": [],
   "source": [
    "def make_trace(y, color, name):\n",
    "    return dict(\n",
    "        x=years,\n",
    "        y=y,\n",
    "        name=name,\n",
    "    )"
   ]
  },
  {
   "cell_type": "code",
   "execution_count": 123,
   "metadata": {
    "collapsed": false
   },
   "outputs": [],
   "source": [
    "# Build the data object\n",
    "# Assign temp traces to top axis\n",
    "traces_T = [make_trace(US_life_expt, color_US, 'US'),\n",
    "           make_trace(Ch_life_expt, color_Ch, 'China')]\n",
    "\n",
    "# Concat the 4 traces and set the 'data' key in the Figure object\n",
    "fig['data'] = Data(traces_T)"
   ]
  },
  {
   "cell_type": "code",
   "execution_count": 121,
   "metadata": {
    "collapsed": false
   },
   "outputs": [
    {
     "data": {
      "text/html": [
       "<iframe id=\"igraph\" scrolling=\"no\" style=\"border:none;\" seamless=\"seamless\" src=\"https://plot.ly/~mjoh/20.embed\" height=\"525px\" width=\"100%\"></iframe>"
      ],
      "text/plain": [
       "<plotly.tools.PlotlyDisplay object>"
      ]
     },
     "execution_count": 121,
     "metadata": {},
     "output_type": "execute_result"
    }
   ],
   "source": [
    "# (@) Send to Plotly and show in notebook\n",
    "py.iplot(fig, filename='simple_US_Ch_life_expt_over_time')"
   ]
  },
  {
   "cell_type": "code",
   "execution_count": null,
   "metadata": {
    "collapsed": true
   },
   "outputs": [],
   "source": []
  }
 ],
 "metadata": {
  "kernelspec": {
   "display_name": "Python 3",
   "language": "python",
   "name": "python3"
  },
  "language_info": {
   "codemirror_mode": {
    "name": "ipython",
    "version": 3
   },
   "file_extension": ".py",
   "mimetype": "text/x-python",
   "name": "python",
   "nbconvert_exporter": "python",
   "pygments_lexer": "ipython3",
   "version": "3.6.0"
  }
 },
 "nbformat": 4,
 "nbformat_minor": 2
}
