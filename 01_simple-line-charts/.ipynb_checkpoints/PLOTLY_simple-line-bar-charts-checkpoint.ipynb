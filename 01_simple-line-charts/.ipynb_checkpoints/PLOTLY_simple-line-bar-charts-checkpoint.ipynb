{
 "cells": [
  {
   "cell_type": "markdown",
   "metadata": {},
   "source": [
    "# Plotly: Simple Line and Bar Charts\n",
    "## Practicing and experimenting with Plotly, Python and Data Visualization.\n",
    "\n",
    "#### Links:\n",
    "- With help from [Plotly User Guide](http://nbviewer.jupyter.org/github/plotly/python-user-guide/tree/master/)\n",
    "\n",
    "- Stored in [GitHub](https://github.com/mmjohns/plotly-practice)"
   ]
  },
  {
   "cell_type": "markdown",
   "metadata": {},
   "source": [
    "-----"
   ]
  },
  {
   "cell_type": "markdown",
   "metadata": {},
   "source": [
    "### Contents\n",
    "1. [**Setup**](#section1)\n",
    "2. [**Single Line Chart**](#section2)\n",
    "3. [**Dual Line Chart**](#section3)\n",
    "4. [**Grouped Bar Chart with Subplot**](#section4)"
   ]
  },
  {
   "cell_type": "markdown",
   "metadata": {},
   "source": [
    "-----"
   ]
  },
  {
   "cell_type": "markdown",
   "metadata": {},
   "source": [
    "## <a id=\"section1\">Set up</a>"
   ]
  },
  {
   "cell_type": "code",
   "execution_count": 6,
   "metadata": {
    "collapsed": true
   },
   "outputs": [],
   "source": [
    "import plotly\n",
    "import plotly.plotly as py\n",
    "import plotly.tools as tls \n",
    "from plotly.graph_objs import Data, Layout, Figure, XAxis, YAxis, Bar, Marker, Margin, Font, Annotation\n",
    "\n",
    "import numpy as np"
   ]
  },
  {
   "cell_type": "code",
   "execution_count": 7,
   "metadata": {
    "collapsed": true
   },
   "outputs": [],
   "source": [
    "# (*) csv file read/write\n",
    "import csv         \n",
    "\n",
    "# Define a csv reader function\n",
    "def get_csv_data(filepath, row_id):\n",
    "    ''' \n",
    "    Read row of csv file, return a numpy array where\n",
    "    each entry corresp. to a particular year\n",
    "    pos. arg (1) filepath: relative path to csv file \n",
    "    pos. arg (2) row_id: id of row requested, found in first column (a string)\n",
    "    '''\n",
    "    with open(filepath, 'r') as data_file:\n",
    "        reader = csv.reader(data_file)        # define reader object\n",
    "        for row in reader:                    # loop through rows in csv file\n",
    "            if len(row) and row_id in row[0]: # test for empty lines and row id\n",
    "                # Trim 1st entry\n",
    "                # and return a numpy array\n",
    "                return np.array([float(x) for x in row[1:]])\n",
    "            \n",
    "# The 'with' statement automatically closes 'filepath' at the end of its block of code"
   ]
  },
  {
   "cell_type": "code",
   "execution_count": 9,
   "metadata": {
    "collapsed": false
   },
   "outputs": [],
   "source": [
    "# Function for the csv file\n",
    "life_expt_file = '/Users/meganjohns/AnacondaProjects/plotly-practice/data/world_life_expt_by_year.csv'\n",
    "\n",
    "# Import CSV file and store specific rows as lists\n",
    "year = get_csv_data(life_expt_file, 'Year')\n",
    "US_life_expt = get_csv_data(life_expt_file, 'United States')\n",
    "# Will use later\n",
    "China_life_expt = get_csv_data(life_expt_file, 'China')"
   ]
  },
  {
   "cell_type": "code",
   "execution_count": 31,
   "metadata": {
    "collapsed": true
   },
   "outputs": [],
   "source": [
    "# Colors\n",
    "US_color = '#002868'\n",
    "China_color = '#aa381e'"
   ]
  },
  {
   "cell_type": "markdown",
   "metadata": {},
   "source": [
    "----"
   ]
  },
  {
   "cell_type": "markdown",
   "metadata": {},
   "source": [
    "## <a id=\"section2\">Single Line Chart</a>"
   ]
  },
  {
   "cell_type": "code",
   "execution_count": 32,
   "metadata": {
    "collapsed": true
   },
   "outputs": [],
   "source": [
    "# Make a dictionary linking x and y coordinate lists to 'x' and 'y' keys\n",
    "trace1 = dict(\n",
    "    x=year, \n",
    "    y=US_life_expt,\n",
    "    line = dict(\n",
    "        color = US_color,\n",
    "        width = 4\n",
    "    ),\n",
    "    marker=dict(size = 12)\n",
    ")\n",
    "\n",
    "# Make list of trace, to be sent to Plotly\n",
    "data1 = [trace1]"
   ]
  },
  {
   "cell_type": "code",
   "execution_count": 33,
   "metadata": {
    "collapsed": false
   },
   "outputs": [],
   "source": [
    "# Make Layout object\n",
    "layout1 = Layout(\n",
    "    title=\"<b>U.S. Life Expectancy Over Time</b><br>\\\n",
    "    (1952-2007)\",\n",
    "    showlegend=False,\n",
    "    yaxis= YAxis(\n",
    "        title='Life Expectancy (years)',\n",
    "        showgrid=False\n",
    "    ),\n",
    "    xaxis= XAxis(\n",
    "        title='Year',\n",
    "        showgrid=False\n",
    "    )\n",
    ")\n",
    "\n",
    "# Make Figure object\n",
    "fig1 = Figure(data=data1, layout=layout1)"
   ]
  },
  {
   "cell_type": "code",
   "execution_count": 34,
   "metadata": {
    "collapsed": false
   },
   "outputs": [
    {
     "data": {
      "text/html": [
       "<iframe id=\"igraph\" scrolling=\"no\" style=\"border:none;\" seamless=\"seamless\" src=\"https://plot.ly/~mjoh/18.embed\" height=\"525px\" width=\"100%\"></iframe>"
      ],
      "text/plain": [
       "<plotly.tools.PlotlyDisplay object>"
      ]
     },
     "execution_count": 34,
     "metadata": {},
     "output_type": "execute_result"
    }
   ],
   "source": [
    "# Call the plot() function of the plotly.plotly submodule,\n",
    "# save and name figure\n",
    "# Note: to keep plots private (free accounts have a limit), add argument world_readable=False\n",
    "# py.plot(fig, filename='simple_US_life_expt_over_time', auto_open=False)\n",
    "\n",
    "# Embed result in notebook\n",
    "py.iplot(fig1, filename='simple_US_life_expt_over_time')"
   ]
  },
  {
   "cell_type": "markdown",
   "metadata": {},
   "source": [
    "----"
   ]
  },
  {
   "cell_type": "markdown",
   "metadata": {},
   "source": [
    "## <a id=\"section3\">Dual Line Chart</a>"
   ]
  },
  {
   "cell_type": "code",
   "execution_count": 138,
   "metadata": {
    "collapsed": true
   },
   "outputs": [],
   "source": [
    "# Define a trace-generating function (returns a Line object)\n",
    "def make_trace(y, color, name):\n",
    "    return dict(\n",
    "        x = year,\n",
    "        y = y,\n",
    "        name = name,\n",
    "        line = dict(\n",
    "            color = color,\n",
    "            width = 4\n",
    "        ),\n",
    "        marker=dict(size = 12)\n",
    "    )"
   ]
  },
  {
   "cell_type": "code",
   "execution_count": 139,
   "metadata": {
    "collapsed": false
   },
   "outputs": [],
   "source": [
    "# Build the data object\n",
    "# Assign temp traces to top axis\n",
    "trace2 = [make_trace(US_life_expt, US_color, 'US'),\n",
    "           make_trace(China_life_expt, China_color, 'China')]\n",
    "\n",
    "\n",
    "# Make Layout object\n",
    "layout2 = Layout(\n",
    "    title=\"<b>U.S. and China Life Expectancy Over Time</b><br>\\\n",
    "    (1952-2007)\",\n",
    "    yaxis= YAxis(\n",
    "        title='Life Expectancy (years)',\n",
    "        showgrid=False,\n",
    "    ),\n",
    "    xaxis= XAxis(\n",
    "        title='Year',\n",
    "        showgrid=False,\n",
    "        range=[0, 80]\n",
    "    ),\n",
    "    font=dict(family='Droid Serif', size=16)\n",
    ")\n",
    "\n",
    "# Make Figure object\n",
    "fig2 = Figure(data=trace2, layout=layout2)"
   ]
  },
  {
   "cell_type": "code",
   "execution_count": 140,
   "metadata": {
    "collapsed": false
   },
   "outputs": [
    {
     "ename": "PlotlyError",
     "evalue": "Hey there! You've hit one of our API request limits. \n\nTo get unlimited API calls(10,000/day), please upgrade to a paid plan. \n\nUPGRADE HERE: https://goo.gl/i7glmM \n\nThanks for using Plotly! Happy Plotting!",
     "output_type": "error",
     "traceback": [
      "\u001b[0;31m---------------------------------------------------------------------------\u001b[0m",
      "\u001b[0;31mPlotlyError\u001b[0m                               Traceback (most recent call last)",
      "\u001b[0;32m<ipython-input-140-e5be22017f21>\u001b[0m in \u001b[0;36m<module>\u001b[0;34m()\u001b[0m\n\u001b[1;32m      1\u001b[0m \u001b[0;31m# (@) Send to Plotly and show in notebook\u001b[0m\u001b[0;34m\u001b[0m\u001b[0;34m\u001b[0m\u001b[0m\n\u001b[0;32m----> 2\u001b[0;31m \u001b[0mpy\u001b[0m\u001b[0;34m.\u001b[0m\u001b[0miplot\u001b[0m\u001b[0;34m(\u001b[0m\u001b[0mfig2\u001b[0m\u001b[0;34m,\u001b[0m \u001b[0mfilename\u001b[0m\u001b[0;34m=\u001b[0m\u001b[0;34m'simple_US_Ch_life_expt_over_time'\u001b[0m\u001b[0;34m)\u001b[0m\u001b[0;34m\u001b[0m\u001b[0m\n\u001b[0m",
      "\u001b[0;32m/anaconda/lib/python3.6/site-packages/plotly/plotly/plotly.py\u001b[0m in \u001b[0;36miplot\u001b[0;34m(figure_or_data, **plot_options)\u001b[0m\n\u001b[1;32m    149\u001b[0m     \u001b[0;32mif\u001b[0m \u001b[0;34m'auto_open'\u001b[0m \u001b[0;32mnot\u001b[0m \u001b[0;32min\u001b[0m \u001b[0mplot_options\u001b[0m\u001b[0;34m:\u001b[0m\u001b[0;34m\u001b[0m\u001b[0m\n\u001b[1;32m    150\u001b[0m         \u001b[0mplot_options\u001b[0m\u001b[0;34m[\u001b[0m\u001b[0;34m'auto_open'\u001b[0m\u001b[0;34m]\u001b[0m \u001b[0;34m=\u001b[0m \u001b[0;32mFalse\u001b[0m\u001b[0;34m\u001b[0m\u001b[0m\n\u001b[0;32m--> 151\u001b[0;31m     \u001b[0murl\u001b[0m \u001b[0;34m=\u001b[0m \u001b[0mplot\u001b[0m\u001b[0;34m(\u001b[0m\u001b[0mfigure_or_data\u001b[0m\u001b[0;34m,\u001b[0m \u001b[0;34m**\u001b[0m\u001b[0mplot_options\u001b[0m\u001b[0;34m)\u001b[0m\u001b[0;34m\u001b[0m\u001b[0m\n\u001b[0m\u001b[1;32m    152\u001b[0m \u001b[0;34m\u001b[0m\u001b[0m\n\u001b[1;32m    153\u001b[0m     \u001b[0;32mif\u001b[0m \u001b[0misinstance\u001b[0m\u001b[0;34m(\u001b[0m\u001b[0mfigure_or_data\u001b[0m\u001b[0;34m,\u001b[0m \u001b[0mdict\u001b[0m\u001b[0;34m)\u001b[0m\u001b[0;34m:\u001b[0m\u001b[0;34m\u001b[0m\u001b[0m\n",
      "\u001b[0;32m/anaconda/lib/python3.6/site-packages/plotly/plotly/plotly.py\u001b[0m in \u001b[0;36mplot\u001b[0;34m(figure_or_data, validate, **plot_options)\u001b[0m\n\u001b[1;32m    239\u001b[0m \u001b[0;34m\u001b[0m\u001b[0m\n\u001b[1;32m    240\u001b[0m     \u001b[0mplot_options\u001b[0m \u001b[0;34m=\u001b[0m \u001b[0m_plot_option_logic\u001b[0m\u001b[0;34m(\u001b[0m\u001b[0mplot_options\u001b[0m\u001b[0;34m)\u001b[0m\u001b[0;34m\u001b[0m\u001b[0m\n\u001b[0;32m--> 241\u001b[0;31m     \u001b[0mres\u001b[0m \u001b[0;34m=\u001b[0m \u001b[0m_send_to_plotly\u001b[0m\u001b[0;34m(\u001b[0m\u001b[0mfigure\u001b[0m\u001b[0;34m,\u001b[0m \u001b[0;34m**\u001b[0m\u001b[0mplot_options\u001b[0m\u001b[0;34m)\u001b[0m\u001b[0;34m\u001b[0m\u001b[0m\n\u001b[0m\u001b[1;32m    242\u001b[0m     \u001b[0;32mif\u001b[0m \u001b[0mres\u001b[0m\u001b[0;34m[\u001b[0m\u001b[0;34m'error'\u001b[0m\u001b[0;34m]\u001b[0m \u001b[0;34m==\u001b[0m \u001b[0;34m''\u001b[0m\u001b[0;34m:\u001b[0m\u001b[0;34m\u001b[0m\u001b[0m\n\u001b[1;32m    243\u001b[0m         \u001b[0;32mif\u001b[0m \u001b[0mplot_options\u001b[0m\u001b[0;34m[\u001b[0m\u001b[0;34m'auto_open'\u001b[0m\u001b[0;34m]\u001b[0m\u001b[0;34m:\u001b[0m\u001b[0;34m\u001b[0m\u001b[0m\n",
      "\u001b[0;32m/anaconda/lib/python3.6/site-packages/plotly/plotly/plotly.py\u001b[0m in \u001b[0;36m_send_to_plotly\u001b[0;34m(figure, **plot_options)\u001b[0m\n\u001b[1;32m   1429\u001b[0m \u001b[0;34m\u001b[0m\u001b[0m\n\u001b[1;32m   1430\u001b[0m     \u001b[0;32mif\u001b[0m \u001b[0;34m'error'\u001b[0m \u001b[0;32min\u001b[0m \u001b[0mr\u001b[0m \u001b[0;32mand\u001b[0m \u001b[0mr\u001b[0m\u001b[0;34m[\u001b[0m\u001b[0;34m'error'\u001b[0m\u001b[0;34m]\u001b[0m \u001b[0;34m!=\u001b[0m \u001b[0;34m''\u001b[0m\u001b[0;34m:\u001b[0m\u001b[0;34m\u001b[0m\u001b[0m\n\u001b[0;32m-> 1431\u001b[0;31m         \u001b[0;32mraise\u001b[0m \u001b[0mexceptions\u001b[0m\u001b[0;34m.\u001b[0m\u001b[0mPlotlyError\u001b[0m\u001b[0;34m(\u001b[0m\u001b[0mr\u001b[0m\u001b[0;34m[\u001b[0m\u001b[0;34m'error'\u001b[0m\u001b[0;34m]\u001b[0m\u001b[0;34m)\u001b[0m\u001b[0;34m\u001b[0m\u001b[0m\n\u001b[0m\u001b[1;32m   1432\u001b[0m \u001b[0;34m\u001b[0m\u001b[0m\n\u001b[1;32m   1433\u001b[0m     \u001b[0;31m# Check if the url needs a secret key\u001b[0m\u001b[0;34m\u001b[0m\u001b[0;34m\u001b[0m\u001b[0m\n",
      "\u001b[0;31mPlotlyError\u001b[0m: Hey there! You've hit one of our API request limits. \n\nTo get unlimited API calls(10,000/day), please upgrade to a paid plan. \n\nUPGRADE HERE: https://goo.gl/i7glmM \n\nThanks for using Plotly! Happy Plotting!"
     ]
    }
   ],
   "source": [
    "# (@) Send to Plotly and show in notebook\n",
    "py.iplot(fig2, filename='simple_US_Ch_life_expt_over_time')"
   ]
  },
  {
   "cell_type": "markdown",
   "metadata": {},
   "source": [
    "----"
   ]
  },
  {
   "cell_type": "markdown",
   "metadata": {},
   "source": [
    "## <a id=\"section4\">Grouped Bar Chart with Subplot</a>"
   ]
  },
  {
   "cell_type": "markdown",
   "metadata": {},
   "source": [
    "Import GDP csv file"
   ]
  },
  {
   "cell_type": "code",
   "execution_count": 7,
   "metadata": {
    "collapsed": true
   },
   "outputs": [],
   "source": [
    "# Function for the csv file\n",
    "gdp_file = '/Users/meganjohns/AnacondaProjects/plotly-practice/data/world_gdp_by_year.csv'\n",
    "\n",
    "# Import CSV file and store specific rows as lists\n",
    "US_gdp = get_csv_data(gdp_file, 'United States')\n",
    "China_gdp = get_csv_data(gdp_file, 'China')"
   ]
  },
  {
   "cell_type": "markdown",
   "metadata": {},
   "source": [
    "Make subplots - will share x-axis"
   ]
  },
  {
   "cell_type": "code",
   "execution_count": 75,
   "metadata": {
    "collapsed": false
   },
   "outputs": [
    {
     "name": "stdout",
     "output_type": "stream",
     "text": [
      "This is the format of your plot grid:\n",
      "[ (1,1) x1,y1 ]\n",
      "[ (2,1) x1,y2 ]\n",
      "\n"
     ]
    }
   ],
   "source": [
    "# Generate Figure object with 2 axes on 2 rows, print axis grid to stdout\n",
    "fig = tls.make_subplots(\n",
    "    rows=2, \n",
    "    cols=1,\n",
    "    shared_xaxes=True\n",
    ")"
   ]
  },
  {
   "cell_type": "code",
   "execution_count": 76,
   "metadata": {
    "collapsed": false
   },
   "outputs": [],
   "source": [
    "# Define a trace-generating function (returns a Bar object)\n",
    "def make_trace(y, color, name, sbplt):\n",
    "    return Bar(\n",
    "        x=year,\n",
    "        y=y,            # take in the y-coords     \n",
    "        name=name,      # label for hover\n",
    "        marker=Marker(color=color),  # set bar color\n",
    "        xaxis='x1',                    # (!) both subplots on same x-axis\n",
    "        yaxis='y{}'.format(sbplt)      # (!) plot on y-axis of 'sbplt'\n",
    "    )"
   ]
  },
  {
   "cell_type": "markdown",
   "metadata": {},
   "source": [
    "Build the data object"
   ]
  },
  {
   "cell_type": "code",
   "execution_count": 77,
   "metadata": {
    "collapsed": false
   },
   "outputs": [],
   "source": [
    "# Assign gdp traces to 'xaxis2' and 'yaxis2' (top axis)\n",
    "traces_T = [make_trace(US_gdp, US_color, 'United States', 2),\n",
    "            make_trace(China_gdp, China_color, 'China', 2)]\n",
    "\n",
    "# Assign life_expt traces to 'xaxis' and 'yaxis' (bottom axis)\n",
    "traces_B = [make_trace(US_life_expt, US_color, 'United States', 1),\n",
    "            make_trace(China_life_expt, China_color, 'China', 1)]\n",
    "\n",
    "# Concatenate the four traces and set the 'data' key in the Figure object\n",
    "fig['data'] = Data(traces_T + traces_B)"
   ]
  },
  {
   "cell_type": "code",
   "execution_count": 130,
   "metadata": {
    "collapsed": false
   },
   "outputs": [],
   "source": [
    "# Make Layout object\n",
    "layout = Layout(\n",
    "    barmode='group',  # (!) bars are in groups on this plot\n",
    "    bargroupgap=0,    # norm. spacing between group members\n",
    "    bargap=0.25,       # (!) spacing (norm. w.r.t axis) between bars\n",
    "    title=\"<b>U.S. and China GDP and Life Expectancy Over Time</b><br>\\\n",
    "    (1952-2007)\",    \n",
    "    showlegend=False, # remove legend\n",
    "    plot_bgcolor='#EFECEA',  # set plot and \n",
    "    paper_bgcolor='#EFECEA', #   frame background color\n",
    "    autosize=False,   # (!) turn off autosize \n",
    "    height=500,\n",
    "    width=750,\n",
    "    margin=Margin( # set frame to plotting area margins\n",
    "        t=100,     #   top,\n",
    "        b=100,     #   bottom,\n",
    "        r=25,      #   right,\n",
    "        l=70       #   left\n",
    "    ), \n",
    "    font=Font(\n",
    "        family=\"Droid Sans, sans-serif\", \n",
    "        color='#635F5D'\n",
    "    ),\n",
    "    xaxis= XAxis(\n",
    "        gridcolor='white',  # white grid lines\n",
    "        gridwidth=2,        # bigger grid lines\n",
    "        zeroline=False,     # remove thick zero line\n",
    "        ticks='outside',    # draw ticks outside axes\n",
    "        autotick=False,     # (!) overwrite default tick options\n",
    "        dtick=100,          # (!) set distance between ticks  \n",
    "        ticklen=8,          # (!) set tick length\n",
    "        tickwidth=1.5       #     and width\n",
    "    )\n",
    ")     "
   ]
  },
  {
   "cell_type": "code",
   "execution_count": 131,
   "metadata": {
    "collapsed": false
   },
   "outputs": [],
   "source": [
    "# Define a function for updating up the axes (return a dictionary)\n",
    "def update_axis(title, tickangle):\n",
    "     return dict(\n",
    "        title=title,              # axis title\n",
    "        tickfont=dict(size=13),   # font size, default is 12\n",
    "        tickangle=tickangle,      # set tick label angles\n",
    "        gridcolor='#FFFFFF',      # white grid lines\n",
    "        zeroline=False            # remove thick zero line\n",
    "    )\n",
    "             \n",
    "# Update top axis options in the 'layout' key in Figure object\n",
    "fig['layout']['xaxis1'].update(\n",
    "    update_axis('', 0)\n",
    ")\n",
    "\n",
    "# Update top axis options in Layout options\n",
    "fig['layout']['yaxis2'].update(\n",
    "    update_axis('<b>GDP</b>', 0)\n",
    ") \n",
    "\n",
    "# Update bottom axis options in Layout object\n",
    "fig['layout']['yaxis1'].update(\n",
    "    update_axis('<b>Life Expectancy</b>', 0)\n",
    ")\n",
    "\n",
    "fig['layout'].update(\n",
    "    showlegend=False, # remove legend\n",
    "    autosize=False,   # (!) turn off autosize\n",
    "    plot_bgcolor='#EFECEA',  # set plot and \n",
    "    paper_bgcolor='#EFECEA', #   frame background color\n",
    ")   "
   ]
  },
  {
   "cell_type": "markdown",
   "metadata": {},
   "source": [
    "Add Title"
   ]
  },
  {
   "cell_type": "code",
   "execution_count": 132,
   "metadata": {
    "collapsed": false
   },
   "outputs": [],
   "source": [
    "# Define a 1st annotation-generating function (for title and data source)\n",
    "def make_anno1(text, fontsize, x, y):\n",
    "    return Annotation(\n",
    "        text=text,   # annotation text\n",
    "        xref='paper',  # use paper coordinates\n",
    "        yref='paper',  #   for both x and y coords\n",
    "        x=x,           # x and y position \n",
    "        y=y,           #   in norm. coord. \n",
    "        font=Font(size=fontsize),  # text font size\n",
    "        showarrow=False,       # no arrow (default is True)\n",
    "        bgcolor='#F5F3F2',     # light grey background color\n",
    "        bordercolor='#FFFFFF', # white borders\n",
    "        borderwidth=1,         # border width\n",
    "        borderpad=10     # set border/text space to 1 fontsize\n",
    "    )\n",
    "\n",
    "# (2.5a) Create annotation list with title and data source\n",
    "annotations = [\n",
    "    make_anno1('<b>U.S. and China<br>GDP and Life Expectancy Over Time</b>', 16, 0, 1.26)\n",
    "]"
   ]
  },
  {
   "cell_type": "markdown",
   "metadata": {},
   "source": [
    "Add Legend"
   ]
  },
  {
   "cell_type": "code",
   "execution_count": 133,
   "metadata": {
    "collapsed": false
   },
   "outputs": [],
   "source": [
    "# Define annotation-generating function (for the legend)\n",
    "def make_anno2(text, fontcolor, x):\n",
    "    return Annotation(\n",
    "        text=text,  # annotation text\n",
    "        xref='paper',     # use paper coordinates\n",
    "        yref='paper',     #   for both x and y coords\n",
    "        x=x,              # x and y position\n",
    "        y=1.2,            #   in norm. coord.\n",
    "        xanchor='right',  # 'x' at right border of annotation\n",
    "        font=Font(\n",
    "            size=12,           # set text font size \n",
    "            color=fontcolor    #   and color\n",
    "        ),\n",
    "        showarrow=False,   # no arrow (default is True)\n",
    "        bgcolor='#F5F3F2', # light grey background color\n",
    "        borderpad=10       # set border/text space (in pixels)\n",
    "    )\n",
    "\n",
    "# (2.5b) Append annotation list with the two legend items\n",
    "annotations += [\n",
    "    make_anno2('<b>United States</b>', US_color, 0.9),\n",
    "    make_anno2('<b>China</b>', China_color, 1)\n",
    "]\n",
    "\n",
    "# (2.5c) Add annotation list to 'layout' key in the Figure object\n",
    "fig['layout'].update(\n",
    "    annotations=annotations\n",
    ")"
   ]
  },
  {
   "cell_type": "markdown",
   "metadata": {},
   "source": [
    "Call to Plotly"
   ]
  },
  {
   "cell_type": "code",
   "execution_count": 134,
   "metadata": {
    "collapsed": false,
    "scrolled": false
   },
   "outputs": [
    {
     "data": {
      "text/html": [
       "<iframe id=\"igraph\" scrolling=\"no\" style=\"border:none;\" seamless=\"seamless\" src=\"https://plot.ly/~mjoh/22.embed\" height=\"525px\" width=\"100%\"></iframe>"
      ],
      "text/plain": [
       "<plotly.tools.PlotlyDisplay object>"
      ]
     },
     "execution_count": 134,
     "metadata": {},
     "output_type": "execute_result"
    }
   ],
   "source": [
    "# Send to Plotly and show in notebook\n",
    "py.iplot(fig, filename='subplot_US_China_gdp_life_expt_over_time')"
   ]
  }
 ],
 "metadata": {
  "kernelspec": {
   "display_name": "Python 3",
   "language": "python",
   "name": "python3"
  },
  "language_info": {
   "codemirror_mode": {
    "name": "ipython",
    "version": 3
   },
   "file_extension": ".py",
   "mimetype": "text/x-python",
   "name": "python",
   "nbconvert_exporter": "python",
   "pygments_lexer": "ipython3",
   "version": "3.6.0"
  }
 },
 "nbformat": 4,
 "nbformat_minor": 2
}
